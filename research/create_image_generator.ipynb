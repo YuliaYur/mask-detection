{
 "cells": [
  {
   "cell_type": "code",
   "execution_count": null,
   "id": "6b41b424-72be-43f7-94da-992eabc0a92a",
   "metadata": {},
   "outputs": [],
   "source": [
    "import cv2\n",
    "import numpy as np\n",
    "from tensorflow.keras.preprocessing.image import ImageDataGenerator"
   ]
  },
  {
   "cell_type": "code",
   "execution_count": null,
   "id": "8a480a6b-8dee-4196-b618-2c8adfca92d7",
   "metadata": {},
   "outputs": [],
   "source": [
    "batch_size = 128\n",
    "target_size = (64, 64)\n",
    "\n",
    "\n",
    "def blur_image(image: np.ndarray):\n",
    "    blur_kernel = np.random.randint(0, 4) * 2 + 1\n",
    "    blurred_img = cv2.GaussianBlur(image, (blur_kernel, blur_kernel), 0)\n",
    "    return blurred_img\n",
    "\n",
    "train_datagen = ImageDataGenerator(horizontal_flip=True,\n",
    "                                   zoom_range=0.2,\n",
    "                                   shear_range=0.2,\n",
    "                                   brightness_range=[0.6, 1.0],\n",
    "                                   preprocessing_function=blur_image)\n",
    "\n",
    "train_generator = train_datagen.flow_from_directory(directory=train_dir,\n",
    "                                                    target_size=target_size,\n",
    "                                                    class_mode='categorical',\n",
    "                                                    batch_size=batch_size)\n",
    "\n",
    "val_datagen = ImageDataGenerator()\n",
    "val_generator = train_datagen.flow_from_directory(directory=val_dir,\n",
    "                                                  target_size=target_size,\n",
    "                                                  class_mode='categorical',\n",
    "                                                  batch_size=batch_size)"
   ]
  }
 ],
 "metadata": {
  "kernelspec": {
   "display_name": "Python 3 (ipykernel)",
   "language": "python",
   "name": "python3"
  },
  "language_info": {
   "codemirror_mode": {
    "name": "ipython",
    "version": 3
   },
   "file_extension": ".py",
   "mimetype": "text/x-python",
   "name": "python",
   "nbconvert_exporter": "python",
   "pygments_lexer": "ipython3",
   "version": "3.9.5"
  }
 },
 "nbformat": 4,
 "nbformat_minor": 5
}
